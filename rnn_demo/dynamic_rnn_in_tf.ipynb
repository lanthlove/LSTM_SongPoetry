{
 "cells": [
  {
   "cell_type": "code",
   "execution_count": 2,
   "metadata": {},
   "outputs": [],
   "source": [
    "from __future__ import print_function\n",
    "from __future__ import division\n",
    "from __future__ import unicode_literals\n"
   ]
  },
  {
   "cell_type": "code",
   "execution_count": 3,
   "metadata": {},
   "outputs": [
    {
     "name": "stdout",
     "output_type": "stream",
     "text": [
      "Expected cross entropy loss if the model:\n",
      "- learns neither dependency: 0.6615632381579821\n",
      "- learns first dependency:   0.5191666997072094\n",
      "- learns both dependencies:  0.4544543674493905\n"
     ]
    }
   ],
   "source": [
    "import numpy as np\n",
    "\n",
    "print(\"Expected cross entropy loss if the model:\")\n",
    "print(\"- learns neither dependency:\", -(0.625 * np.log(0.625) +\n",
    "                                      0.375 * np.log(0.375)))\n",
    "# Learns first dependency only ==> 0.51916669970720941\n",
    "print(\"- learns first dependency:  \",\n",
    "      -0.5 * (0.875 * np.log(0.875) + 0.125 * np.log(0.125))\n",
    "      -0.5 * (0.625 * np.log(0.625) + 0.375 * np.log(0.375)))\n",
    "print(\"- learns both dependencies: \", -0.50 * (0.75 * np.log(0.75) + 0.25 * np.log(0.25))\n",
    "      - 0.25 * (2 * 0.50 * np.log (0.50)) - 0.25 * (0))"
   ]
  },
  {
   "cell_type": "code",
   "execution_count": 4,
   "metadata": {},
   "outputs": [
    {
     "name": "stderr",
     "output_type": "stream",
     "text": [
      "D:\\Anaconda3\\lib\\site-packages\\h5py\\__init__.py:36: FutureWarning: Conversion of the second argument of issubdtype from `float` to `np.floating` is deprecated. In future, it will be treated as `np.float64 == np.dtype(float).type`.\n",
      "  from ._conv import register_converters as _register_converters\n"
     ]
    }
   ],
   "source": [
    "import numpy as np\n",
    "import tensorflow as tf\n",
    "%matplotlib inline\n",
    "import matplotlib.pyplot as plt\n",
    "import os\n",
    "os.environ['CUDA_VISIBLE_DEVICES']=''"
   ]
  },
  {
   "cell_type": "code",
   "execution_count": 5,
   "metadata": {},
   "outputs": [],
   "source": [
    "# Global config variables\n",
    "num_steps = 10 # number of truncated backprop steps ('n' in the discussion above)\n",
    "batch_size = 200\n",
    "num_classes = 2\n",
    "state_size = 16\n",
    "learning_rate = 0.001"
   ]
  },
  {
   "cell_type": "code",
   "execution_count": 6,
   "metadata": {},
   "outputs": [],
   "source": [
    "def gen_data(size=1000000):\n",
    "    X = np.array(np.random.choice(2, size=(size,)))\n",
    "    Y = []\n",
    "    for i in range(size):\n",
    "        threshold = 0.5\n",
    "        if X[i-3] == 1:\n",
    "            threshold += 0.5\n",
    "        if X[i-8] == 1:\n",
    "            threshold -= 0.25\n",
    "        if np.random.rand() > threshold:\n",
    "            Y.append(0)\n",
    "        else:\n",
    "            Y.append(1)\n",
    "    return X, np.array(Y)\n",
    "\n",
    "# adapted from https://github.com/tensorflow/tensorflow/blob/master/tensorflow/models/rnn/ptb/reader.py\n",
    "def gen_batch(raw_data, batch_size, num_steps):\n",
    "    raw_x, raw_y = raw_data\n",
    "    data_length = len(raw_x)\n",
    "\n",
    "    # partition raw data into batches and stack them vertically in a data matrix\n",
    "    batch_partition_length = data_length // batch_size\n",
    "    data_x = np.zeros([batch_size, batch_partition_length], dtype=np.int32)\n",
    "    data_y = np.zeros([batch_size, batch_partition_length], dtype=np.int32)\n",
    "    for i in range(batch_size):\n",
    "        data_x[i] = raw_x[batch_partition_length * i:batch_partition_length * (i + 1)]\n",
    "        data_y[i] = raw_y[batch_partition_length * i:batch_partition_length * (i + 1)]\n",
    "    # further divide batch partitions into num_steps for truncated backprop\n",
    "    epoch_size = batch_partition_length // num_steps\n",
    "\n",
    "    for i in range(epoch_size):\n",
    "        x = data_x[:, i * num_steps:(i + 1) * num_steps]\n",
    "        y = data_y[:, i * num_steps:(i + 1) * num_steps]\n",
    "        yield (x, y)\n",
    "\n",
    "def gen_epochs(n, num_steps):\n",
    "    for i in range(n):\n",
    "        yield gen_batch(gen_data(), batch_size, num_steps)\n"
   ]
  },
  {
   "cell_type": "code",
   "execution_count": 12,
   "metadata": {},
   "outputs": [
    {
     "name": "stdout",
     "output_type": "stream",
     "text": [
      "Tensor(\"rnn/transpose_1:0\", shape=(200, 10, 16), dtype=float32)\n",
      "Tensor(\"rnn/while/Exit_3:0\", shape=(200, 16), dtype=float32)\n"
     ]
    }
   ],
   "source": [
    "tf.reset_default_graph()\n",
    "\"\"\"\n",
    "Placeholders\n",
    "\"\"\"\n",
    "\n",
    "x = tf.placeholder(tf.int32, [batch_size, num_steps], name='input_placeholder')\n",
    "y = tf.placeholder(tf.int32, [batch_size, num_steps], name='labels_placeholder')\n",
    "init_state = tf.zeros([batch_size, state_size])\n",
    "\n",
    "\"\"\"\n",
    "RNN Inputs\n",
    "\"\"\"\n",
    "\n",
    "# Turn our x placeholder into a list of one-hot tensors:\n",
    "# rnn_inputs is a list of num_steps tensors with shape [batch_size, num_classes]\n",
    "rnn_inputs = tf.one_hot(x, num_classes)\n",
    "\n",
    "cell = tf.nn.rnn_cell.BasicRNNCell(state_size)\n",
    "rnn_outputs, final_state = tf.nn.dynamic_rnn(cell, rnn_inputs, initial_state=init_state)\n",
    "print(rnn_outputs)\n",
    "print(final_state)"
   ]
  },
  {
   "cell_type": "code",
   "execution_count": 13,
   "metadata": {},
   "outputs": [],
   "source": [
    "\"\"\"\n",
    "Predictions, loss, training step\n",
    "\n",
    "Losses is similar to the \"sequence_loss\"\n",
    "function from Tensorflow's API, except that here we are using a list of 2D tensors, instead of a 3D tensor. See:\n",
    "https://github.com/tensorflow/tensorflow/blob/master/tensorflow/contrib/seq2seq/python/ops/loss.py#L30\n",
    "\"\"\"\n",
    "\n",
    "#logits and predictions\n",
    "with tf.variable_scope('softmax'):\n",
    "    W = tf.get_variable('W', [state_size, num_classes])\n",
    "    b = tf.get_variable('b', [num_classes], initializer=tf.constant_initializer(0.0))\n",
    "\n",
    "logits = tf.reshape(\n",
    "    tf.matmul(tf.reshape(rnn_outputs, [-1,state_size]),W) + b,\n",
    "    [batch_size,num_steps,num_classes])\n",
    "\n",
    "predictions = tf.nn.softmax(logits)\n",
    "losses = tf.nn.sparse_softmax_cross_entropy_with_logits(labels=y, logits=logits)"
   ]
  },
  {
   "cell_type": "code",
   "execution_count": 14,
   "metadata": {
    "scrolled": false
   },
   "outputs": [
    {
     "name": "stdout",
     "output_type": "stream",
     "text": [
      "\n",
      "EPOCH 0\n",
      "Average loss at step 100 for last 100 steps: 0.5445354777574539\n",
      "Average loss at step 200 for last 100 steps: 0.4836550587415695\n",
      "Average loss at step 300 for last 100 steps: 0.48256509959697724\n",
      "Average loss at step 400 for last 100 steps: 0.4807286125421524\n",
      "\n",
      "EPOCH 1\n",
      "Average loss at step 100 for last 100 steps: 0.48036312490701677\n",
      "Average loss at step 200 for last 100 steps: 0.4727483198046684\n",
      "Average loss at step 300 for last 100 steps: 0.469253836274147\n",
      "Average loss at step 400 for last 100 steps: 0.46756408661603927\n",
      "\n",
      "EPOCH 2\n",
      "Average loss at step 100 for last 100 steps: 0.4728195145726204\n",
      "Average loss at step 200 for last 100 steps: 0.46405362397432326\n",
      "Average loss at step 300 for last 100 steps: 0.46263598412275314\n",
      "Average loss at step 400 for last 100 steps: 0.46333157777786255\n",
      "\n",
      "EPOCH 3\n",
      "Average loss at step 100 for last 100 steps: 0.4696124720573425\n",
      "Average loss at step 200 for last 100 steps: 0.46064146488904956\n",
      "Average loss at step 300 for last 100 steps: 0.4608897167444229\n",
      "Average loss at step 400 for last 100 steps: 0.45933009415864945\n",
      "\n",
      "EPOCH 4\n",
      "Average loss at step 100 for last 100 steps: 0.4666011425852776\n",
      "Average loss at step 200 for last 100 steps: 0.4606022027134895\n",
      "Average loss at step 300 for last 100 steps: 0.4578935587406158\n",
      "Average loss at step 400 for last 100 steps: 0.459033220410347\n",
      "\n",
      "EPOCH 5\n",
      "Average loss at step 100 for last 100 steps: 0.46513295769691465\n",
      "Average loss at step 200 for last 100 steps: 0.4585014659166336\n",
      "Average loss at step 300 for last 100 steps: 0.46027699261903765\n",
      "Average loss at step 400 for last 100 steps: 0.4582983934879303\n",
      "\n",
      "EPOCH 6\n",
      "Average loss at step 100 for last 100 steps: 0.4641725012660027\n",
      "Average loss at step 200 for last 100 steps: 0.4574356162548065\n",
      "Average loss at step 300 for last 100 steps: 0.4566566249728203\n",
      "Average loss at step 400 for last 100 steps: 0.4574822914600372\n",
      "\n",
      "EPOCH 7\n",
      "Average loss at step 100 for last 100 steps: 0.4634575140476227\n",
      "Average loss at step 200 for last 100 steps: 0.4581772544980049\n",
      "Average loss at step 300 for last 100 steps: 0.458252971470356\n",
      "Average loss at step 400 for last 100 steps: 0.45735201746225357\n",
      "\n",
      "EPOCH 8\n",
      "Average loss at step 100 for last 100 steps: 0.46464032083749773\n",
      "Average loss at step 200 for last 100 steps: 0.45740738630294797\n",
      "Average loss at step 300 for last 100 steps: 0.4565287086367607\n",
      "Average loss at step 400 for last 100 steps: 0.4575386571884155\n",
      "\n",
      "EPOCH 9\n",
      "Average loss at step 100 for last 100 steps: 0.46412588119506837\n",
      "Average loss at step 200 for last 100 steps: 0.45868355095386504\n",
      "Average loss at step 300 for last 100 steps: 0.45726922124624253\n",
      "Average loss at step 400 for last 100 steps: 0.4568029323220253\n",
      "\n",
      "EPOCH 10\n",
      "Average loss at step 100 for last 100 steps: 0.46194374561309814\n",
      "Average loss at step 200 for last 100 steps: 0.4553017753362656\n",
      "Average loss at step 300 for last 100 steps: 0.45553802102804186\n",
      "Average loss at step 400 for last 100 steps: 0.4567931121587753\n",
      "\n",
      "EPOCH 11\n",
      "Average loss at step 100 for last 100 steps: 0.4647736546397209\n",
      "Average loss at step 200 for last 100 steps: 0.4557384285330772\n",
      "Average loss at step 300 for last 100 steps: 0.4572308841347694\n",
      "Average loss at step 400 for last 100 steps: 0.45484051167964934\n",
      "\n",
      "EPOCH 12\n",
      "Average loss at step 100 for last 100 steps: 0.4642030894756317\n",
      "Average loss at step 200 for last 100 steps: 0.45799443691968916\n",
      "Average loss at step 300 for last 100 steps: 0.4573934081196785\n",
      "Average loss at step 400 for last 100 steps: 0.4568620464205742\n",
      "\n",
      "EPOCH 13\n",
      "Average loss at step 100 for last 100 steps: 0.462984556555748\n",
      "Average loss at step 200 for last 100 steps: 0.4570163697004318\n",
      "Average loss at step 300 for last 100 steps: 0.45716663360595705\n",
      "Average loss at step 400 for last 100 steps: 0.4564263561367989\n",
      "\n",
      "EPOCH 14\n",
      "Average loss at step 100 for last 100 steps: 0.46300765037536623\n",
      "Average loss at step 200 for last 100 steps: 0.45611664056777956\n",
      "Average loss at step 300 for last 100 steps: 0.4554008683562279\n",
      "Average loss at step 400 for last 100 steps: 0.4568077901005745\n",
      "\n",
      "EPOCH 15\n",
      "Average loss at step 100 for last 100 steps: 0.4639044001698494\n",
      "Average loss at step 200 for last 100 steps: 0.4550092628598213\n",
      "Average loss at step 300 for last 100 steps: 0.4564744383096695\n",
      "Average loss at step 400 for last 100 steps: 0.4553562366962433\n",
      "\n",
      "EPOCH 16\n",
      "Average loss at step 100 for last 100 steps: 0.46306762903928755\n",
      "Average loss at step 200 for last 100 steps: 0.4560355445742607\n",
      "Average loss at step 300 for last 100 steps: 0.4566690710186958\n",
      "Average loss at step 400 for last 100 steps: 0.4553986445069313\n",
      "\n",
      "EPOCH 17\n",
      "Average loss at step 100 for last 100 steps: 0.46398388743400576\n",
      "Average loss at step 200 for last 100 steps: 0.45690282255411147\n",
      "Average loss at step 300 for last 100 steps: 0.45669731229543686\n",
      "Average loss at step 400 for last 100 steps: 0.45535713046789167\n",
      "\n",
      "EPOCH 18\n",
      "Average loss at step 100 for last 100 steps: 0.46151876091957095\n",
      "Average loss at step 200 for last 100 steps: 0.45672587662935255\n",
      "Average loss at step 300 for last 100 steps: 0.456164590716362\n",
      "Average loss at step 400 for last 100 steps: 0.4564424628019333\n",
      "\n",
      "EPOCH 19\n",
      "Average loss at step 100 for last 100 steps: 0.4644002741575241\n",
      "Average loss at step 200 for last 100 steps: 0.4566096371412277\n",
      "Average loss at step 300 for last 100 steps: 0.4554536485671997\n",
      "Average loss at step 400 for last 100 steps: 0.45472297757864\n"
     ]
    },
    {
     "data": {
      "text/plain": [
       "[<matplotlib.lines.Line2D at 0x17fe551b860>]"
      ]
     },
     "execution_count": 14,
     "metadata": {},
     "output_type": "execute_result"
    },
    {
     "data": {
      "image/png": "[encoded data removed]",
      "text/plain": [
       "<Figure size 432x288 with 1 Axes>"
      ]
     },
     "metadata": {},
     "output_type": "display_data"
    }
   ],
   "source": [
    "total_loss = tf.reduce_mean(losses)\n",
    "train_step = tf.train.AdamOptimizer(learning_rate).minimize(total_loss)\n",
    "\"\"\"\n",
    "Train the network\n",
    "\"\"\"\n",
    "\n",
    "def train_network(num_epochs, num_steps, state_size=4, verbose=True):\n",
    "    with tf.Session() as sess:\n",
    "        sess.run(tf.global_variables_initializer())\n",
    "        training_losses = []\n",
    "        for idx, epoch in enumerate(gen_epochs(num_epochs, num_steps)):\n",
    "            training_loss = 0\n",
    "            training_state = np.zeros((batch_size, state_size))\n",
    "            if verbose:\n",
    "                print(\"\\nEPOCH\", idx)\n",
    "            for step, (X, Y) in enumerate(epoch):\n",
    "                tr_losses, training_loss_, training_state, _ = \\\n",
    "                    sess.run([losses,\n",
    "                              total_loss,\n",
    "                              final_state,\n",
    "                              train_step],\n",
    "                                  feed_dict={x:X, y:Y, init_state:training_state})\n",
    "                training_loss += training_loss_\n",
    "                if step % 100 == 0 and step > 0:\n",
    "                    if verbose:\n",
    "                        print(\"Average loss at step\", step,\n",
    "                              \"for last 100 steps:\", training_loss/100)\n",
    "                    training_losses.append(training_loss/100)\n",
    "                    training_loss = 0\n",
    "\n",
    "    return training_losses\n",
    "training_losses = train_network(20,num_steps,state_size=state_size)\n",
    "plt.plot(training_losses)"
   ]
  },
  {
   "cell_type": "code",
   "execution_count": null,
   "metadata": {},
   "outputs": [],
   "source": []
  }
 ],
 "metadata": {
  "kernelspec": {
   "display_name": "Python 3",
   "language": "python",
   "name": "python3"
  },
  "language_info": {
   "codemirror_mode": {
    "name": "ipython",
    "version": 3
   },
   "file_extension": ".py",
   "mimetype": "text/x-python",
   "name": "python",
   "nbconvert_exporter": "python",
   "pygments_lexer": "ipython3",
   "version": "3.6.5"
  },
  "toc": {
   "base_numbering": 1,
   "nav_menu": {},
   "number_sections": true,
   "sideBar": true,
   "skip_h1_title": false,
   "title_cell": "Table of Contents",
   "title_sidebar": "Contents",
   "toc_cell": false,
   "toc_position": {},
   "toc_section_display": true,
   "toc_window_display": false
  }
 },
 "nbformat": 4,
 "nbformat_minor": 2
}
