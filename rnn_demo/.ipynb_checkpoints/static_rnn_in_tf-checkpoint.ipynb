{
 "cells": [
  {
   "cell_type": "code",
   "execution_count": 1,
   "metadata": {},
   "outputs": [],
   "source": [
    "from __future__ import print_function\n",
    "from __future__ import division\n",
    "from __future__ import unicode_literals"
   ]
  },
  {
   "cell_type": "code",
   "execution_count": 2,
   "metadata": {},
   "outputs": [
    {
     "name": "stdout",
     "output_type": "stream",
     "text": [
      "Expected cross entropy loss if the model:\n",
      "- learns neither dependency: 0.6615632381579821\n",
      "- learns first dependency:   0.5191666997072094\n",
      "- learns both dependencies:  0.4544543674493905\n"
     ]
    }
   ],
   "source": [
    "import numpy as np\n",
    "\n",
    "print(\"Expected cross entropy loss if the model:\")\n",
    "print(\"- learns neither dependency:\", -(0.625 * np.log(0.625) +\n",
    "                                      0.375 * np.log(0.375)))\n",
    "# Learns first dependency only ==> 0.51916669970720941\n",
    "print(\"- learns first dependency:  \",\n",
    "      -0.5 * (0.875 * np.log(0.875) + 0.125 * np.log(0.125))\n",
    "      -0.5 * (0.625 * np.log(0.625) + 0.375 * np.log(0.375)))\n",
    "print(\"- learns both dependencies: \", -0.50 * (0.75 * np.log(0.75) + 0.25 * np.log(0.25))\n",
    "      - 0.25 * (2 * 0.50 * np.log (0.50)) - 0.25 * (0))"
   ]
  },
  {
   "cell_type": "code",
   "execution_count": 3,
   "metadata": {},
   "outputs": [
    {
     "name": "stderr",
     "output_type": "stream",
     "text": [
      "D:\\Anaconda3\\lib\\site-packages\\h5py\\__init__.py:36: FutureWarning: Conversion of the second argument of issubdtype from `float` to `np.floating` is deprecated. In future, it will be treated as `np.float64 == np.dtype(float).type`.\n",
      "  from ._conv import register_converters as _register_converters\n"
     ]
    }
   ],
   "source": [
    "import numpy as np\n",
    "import tensorflow as tf\n",
    "%matplotlib inline\n",
    "import matplotlib.pyplot as plt\n",
    "import os\n",
    "os.environ['CUDA_VISIBLE_DEVICES']=''"
   ]
  },
  {
   "cell_type": "code",
   "execution_count": 4,
   "metadata": {},
   "outputs": [],
   "source": [
    "# Global config variables\n",
    "num_steps = 10 # number of truncated backprop steps ('n' in the discussion above)\n",
    "batch_size = 200\n",
    "num_classes = 2\n",
    "state_size = 16\n",
    "learning_rate = 0.001"
   ]
  },
  {
   "cell_type": "code",
   "execution_count": 5,
   "metadata": {},
   "outputs": [],
   "source": [
    "def gen_data(size=1000000):\n",
    "    X = np.array(np.random.choice(2, size=(size,)))\n",
    "    Y = []\n",
    "    for i in range(size):\n",
    "        threshold = 0.5\n",
    "        if X[i-3] == 1:\n",
    "            threshold += 0.5\n",
    "        if X[i-8] == 1:\n",
    "            threshold -= 0.25\n",
    "        if np.random.rand() > threshold:\n",
    "            Y.append(0)\n",
    "        else:\n",
    "            Y.append(1)\n",
    "    return X, np.array(Y)\n",
    "\n",
    "# adapted from https://github.com/tensorflow/tensorflow/blob/master/tensorflow/models/rnn/ptb/reader.py\n",
    "def gen_batch(raw_data, batch_size, num_steps):\n",
    "    raw_x, raw_y = raw_data\n",
    "    data_length = len(raw_x)\n",
    "\n",
    "    # partition raw data into batches and stack them vertically in a data matrix\n",
    "    batch_partition_length = data_length // batch_size\n",
    "    data_x = np.zeros([batch_size, batch_partition_length], dtype=np.int32)\n",
    "    data_y = np.zeros([batch_size, batch_partition_length], dtype=np.int32)\n",
    "    for i in range(batch_size):\n",
    "        data_x[i] = raw_x[batch_partition_length * i:batch_partition_length * (i + 1)]\n",
    "        data_y[i] = raw_y[batch_partition_length * i:batch_partition_length * (i + 1)]\n",
    "    # further divide batch partitions into num_steps for truncated backprop\n",
    "    epoch_size = batch_partition_length // num_steps\n",
    "\n",
    "    for i in range(epoch_size):\n",
    "        x = data_x[:, i * num_steps:(i + 1) * num_steps]\n",
    "        y = data_y[:, i * num_steps:(i + 1) * num_steps]\n",
    "        yield (x, y)\n",
    "\n",
    "def gen_epochs(n, num_steps):\n",
    "    for i in range(n):\n",
    "        yield gen_batch(gen_data(), batch_size, num_steps)\n"
   ]
  },
  {
   "cell_type": "code",
   "execution_count": 27,
   "metadata": {},
   "outputs": [
    {
     "name": "stdout",
     "output_type": "stream",
     "text": [
      "[<tf.Tensor 'rnn/basic_rnn_cell/Tanh:0' shape=(200, 16) dtype=float32>, <tf.Tensor 'rnn/basic_rnn_cell/Tanh_1:0' shape=(200, 16) dtype=float32>, <tf.Tensor 'rnn/basic_rnn_cell/Tanh_2:0' shape=(200, 16) dtype=float32>, <tf.Tensor 'rnn/basic_rnn_cell/Tanh_3:0' shape=(200, 16) dtype=float32>, <tf.Tensor 'rnn/basic_rnn_cell/Tanh_4:0' shape=(200, 16) dtype=float32>, <tf.Tensor 'rnn/basic_rnn_cell/Tanh_5:0' shape=(200, 16) dtype=float32>, <tf.Tensor 'rnn/basic_rnn_cell/Tanh_6:0' shape=(200, 16) dtype=float32>, <tf.Tensor 'rnn/basic_rnn_cell/Tanh_7:0' shape=(200, 16) dtype=float32>, <tf.Tensor 'rnn/basic_rnn_cell/Tanh_8:0' shape=(200, 16) dtype=float32>, <tf.Tensor 'rnn/basic_rnn_cell/Tanh_9:0' shape=(200, 16) dtype=float32>]\n",
      "Tensor(\"rnn/basic_rnn_cell/Tanh_9:0\", shape=(200, 16), dtype=float32)\n"
     ]
    }
   ],
   "source": [
    "tf.reset_default_graph()\n",
    "\"\"\"\n",
    "Placeholders\n",
    "\"\"\"\n",
    "\n",
    "x = tf.placeholder(tf.int32, [batch_size, num_steps], name='input_placeholder')\n",
    "y = tf.placeholder(tf.int32, [batch_size, num_steps], name='labels_placeholder')\n",
    "init_state = tf.zeros([batch_size, state_size])\n",
    "\n",
    "\"\"\"\n",
    "RNN Inputs\n",
    "\"\"\"\n",
    "\n",
    "# Turn our x placeholder into a list of one-hot tensors:\n",
    "# rnn_inputs is a list of num_steps tensors with shape [batch_size, num_classes]\n",
    "x_one_hot = tf.one_hot(x, num_classes)\n",
    "rnn_inputs = tf.unstack(x_one_hot, axis=1)\n",
    "\n",
    "cell = tf.nn.rnn_cell.BasicRNNCell(state_size)\n",
    "rnn_outputs, final_state = tf.nn.static_rnn(cell, rnn_inputs, initial_state=init_state)\n",
    "#rnn_outputs, final_state = tf.nn.dynamic_rnn(cell, rnn_inputs, initial_state=init_state)\n",
    "print(rnn_outputs)\n",
    "print(final_state)"
   ]
  },
  {
   "cell_type": "code",
   "execution_count": 28,
   "metadata": {},
   "outputs": [],
   "source": [
    "tf.summary.scalar('total_loss', total_loss)\n",
    "merged_summary_op = tf.summary.merge_all()"
   ]
  },
  {
   "cell_type": "code",
   "execution_count": 29,
   "metadata": {
    "scrolled": false
   },
   "outputs": [
    {
     "name": "stdout",
     "output_type": "stream",
     "text": [
      "\n",
      "EPOCH 0\n",
      "Average loss at step 100 for last 100 steps: 0.5623528516292572\n",
      "Average loss at step 200 for last 100 steps: 0.4873265901207924\n",
      "Average loss at step 300 for last 100 steps: 0.4810140815377235\n",
      "Average loss at step 400 for last 100 steps: 0.4812241816520691\n",
      "\n",
      "EPOCH 1\n",
      "Average loss at step 100 for last 100 steps: 0.48321641713380814\n",
      "Average loss at step 200 for last 100 steps: 0.4754210117459297\n",
      "Average loss at step 300 for last 100 steps: 0.47382816404104233\n",
      "Average loss at step 400 for last 100 steps: 0.47411330699920656\n",
      "\n",
      "EPOCH 2\n",
      "Average loss at step 100 for last 100 steps: 0.4774658489227295\n",
      "Average loss at step 200 for last 100 steps: 0.4684817531704903\n",
      "Average loss at step 300 for last 100 steps: 0.4669181028008461\n",
      "Average loss at step 400 for last 100 steps: 0.4664419957995415\n",
      "\n",
      "EPOCH 3\n",
      "Average loss at step 100 for last 100 steps: 0.47071994811296464\n",
      "Average loss at step 200 for last 100 steps: 0.4622342962026596\n",
      "Average loss at step 300 for last 100 steps: 0.46050195723772047\n",
      "Average loss at step 400 for last 100 steps: 0.46172542572021485\n",
      "\n",
      "EPOCH 4\n",
      "Average loss at step 100 for last 100 steps: 0.4693360394239426\n",
      "Average loss at step 200 for last 100 steps: 0.46085045367479327\n",
      "Average loss at step 300 for last 100 steps: 0.4618397733569145\n",
      "Average loss at step 400 for last 100 steps: 0.46043153524398805\n",
      "\n",
      "EPOCH 5\n",
      "Average loss at step 100 for last 100 steps: 0.4677200177311897\n",
      "Average loss at step 200 for last 100 steps: 0.4587294474244118\n",
      "Average loss at step 300 for last 100 steps: 0.4607099124789238\n",
      "Average loss at step 400 for last 100 steps: 0.4602408903837204\n",
      "\n",
      "EPOCH 6\n",
      "Average loss at step 100 for last 100 steps: 0.4654082399606705\n",
      "Average loss at step 200 for last 100 steps: 0.458622073829174\n",
      "Average loss at step 300 for last 100 steps: 0.46044187635183337\n",
      "Average loss at step 400 for last 100 steps: 0.45926815569400786\n",
      "\n",
      "EPOCH 7\n",
      "Average loss at step 100 for last 100 steps: 0.4653195732831955\n",
      "Average loss at step 200 for last 100 steps: 0.45846019744873046\n",
      "Average loss at step 300 for last 100 steps: 0.4596348461508751\n",
      "Average loss at step 400 for last 100 steps: 0.45775788843631743\n",
      "\n",
      "EPOCH 8\n",
      "Average loss at step 100 for last 100 steps: 0.46678963243961336\n",
      "Average loss at step 200 for last 100 steps: 0.45745537757873533\n",
      "Average loss at step 300 for last 100 steps: 0.45814634919166564\n",
      "Average loss at step 400 for last 100 steps: 0.45654229909181593\n",
      "\n",
      "EPOCH 9\n",
      "Average loss at step 100 for last 100 steps: 0.46603144466876983\n",
      "Average loss at step 200 for last 100 steps: 0.45650179237127303\n",
      "Average loss at step 300 for last 100 steps: 0.4581572461128235\n",
      "Average loss at step 400 for last 100 steps: 0.4579190847277641\n",
      "\n",
      "EPOCH 10\n",
      "Average loss at step 100 for last 100 steps: 0.46652171075344084\n",
      "Average loss at step 200 for last 100 steps: 0.45693921893835066\n",
      "Average loss at step 300 for last 100 steps: 0.45658605933189395\n",
      "Average loss at step 400 for last 100 steps: 0.45624260693788526\n",
      "\n",
      "EPOCH 11\n",
      "Average loss at step 100 for last 100 steps: 0.46517268776893617\n",
      "Average loss at step 200 for last 100 steps: 0.4564580610394478\n",
      "Average loss at step 300 for last 100 steps: 0.4570958125591278\n",
      "Average loss at step 400 for last 100 steps: 0.458028264939785\n",
      "\n",
      "EPOCH 12\n",
      "Average loss at step 100 for last 100 steps: 0.4633634436130524\n",
      "Average loss at step 200 for last 100 steps: 0.4572888231277466\n",
      "Average loss at step 300 for last 100 steps: 0.4575673994421959\n",
      "Average loss at step 400 for last 100 steps: 0.45879819989204407\n",
      "\n",
      "EPOCH 13\n",
      "Average loss at step 100 for last 100 steps: 0.46471029818058013\n",
      "Average loss at step 200 for last 100 steps: 0.4578066584467888\n",
      "Average loss at step 300 for last 100 steps: 0.45686728447675706\n",
      "Average loss at step 400 for last 100 steps: 0.4557840088009834\n",
      "\n",
      "EPOCH 14\n",
      "Average loss at step 100 for last 100 steps: 0.46349832624197007\n",
      "Average loss at step 200 for last 100 steps: 0.4561036032438278\n",
      "Average loss at step 300 for last 100 steps: 0.4557228174805641\n",
      "Average loss at step 400 for last 100 steps: 0.45541844129562375\n",
      "\n",
      "EPOCH 15\n",
      "Average loss at step 100 for last 100 steps: 0.4637648171186447\n",
      "Average loss at step 200 for last 100 steps: 0.4570183330774307\n",
      "Average loss at step 300 for last 100 steps: 0.455752908885479\n",
      "Average loss at step 400 for last 100 steps: 0.4572811794281006\n",
      "\n",
      "EPOCH 16\n",
      "Average loss at step 100 for last 100 steps: 0.4649707278609276\n",
      "Average loss at step 200 for last 100 steps: 0.4577271321415901\n",
      "Average loss at step 300 for last 100 steps: 0.4570948213338852\n",
      "Average loss at step 400 for last 100 steps: 0.45616583347320555\n",
      "\n",
      "EPOCH 17\n",
      "Average loss at step 100 for last 100 steps: 0.46438492089509964\n",
      "Average loss at step 200 for last 100 steps: 0.45506916105747225\n",
      "Average loss at step 300 for last 100 steps: 0.45457250326871873\n",
      "Average loss at step 400 for last 100 steps: 0.45632393419742584\n",
      "\n",
      "EPOCH 18\n",
      "Average loss at step 100 for last 100 steps: 0.4647802811861038\n",
      "Average loss at step 200 for last 100 steps: 0.4567236828804016\n",
      "Average loss at step 300 for last 100 steps: 0.45805013746023177\n",
      "Average loss at step 400 for last 100 steps: 0.45662129402160645\n",
      "\n",
      "EPOCH 19\n",
      "Average loss at step 100 for last 100 steps: 0.4632324108481407\n",
      "Average loss at step 200 for last 100 steps: 0.45664382427930833\n",
      "Average loss at step 300 for last 100 steps: 0.45817045122385025\n",
      "Average loss at step 400 for last 100 steps: 0.45776029497385023\n"
     ]
    },
    {
     "data": {
      "text/plain": [
       "[<matplotlib.lines.Line2D at 0x235431cd7b8>]"
      ]
     },
     "execution_count": 29,
     "metadata": {},
     "output_type": "execute_result"
    },
    {
     "data": {
      "image/png": "[encoded data removed]",
      "text/plain": [
       "<Figure size 432x288 with 1 Axes>"
      ]
     },
     "metadata": {},
     "output_type": "display_data"
    }
   ],
   "source": [
    "\"\"\"\n",
    "Predictions, loss, training step\n",
    "\n",
    "Losses is similar to the \"sequence_loss\"\n",
    "function from Tensorflow's API, except that here we are using a list of 2D tensors, instead of a 3D tensor. See:\n",
    "https://github.com/tensorflow/tensorflow/blob/master/tensorflow/contrib/seq2seq/python/ops/loss.py#L30\n",
    "\"\"\"\n",
    "\n",
    "#logits and predictions\n",
    "with tf.variable_scope('softmax'):\n",
    "    W = tf.get_variable('W', [state_size, num_classes])\n",
    "    b = tf.get_variable('b', [num_classes], initializer=tf.constant_initializer(0.0))\n",
    "logits = [tf.matmul(rnn_output, W) + b for rnn_output in rnn_outputs]\n",
    "predictions = [tf.nn.softmax(logit) for logit in logits]\n",
    "\n",
    "# Turn our y placeholder into a list of labels\n",
    "y_as_list = tf.unstack(y, num=num_steps, axis=1)\n",
    "\n",
    "#losses and train_step\n",
    "losses = [tf.nn.sparse_softmax_cross_entropy_with_logits(labels=label, logits=logit) for \\\n",
    "          logit, label in zip(logits, y_as_list)]\n",
    "total_loss = tf.reduce_mean(losses)\n",
    "train_step = tf.train.AdamOptimizer(learning_rate).minimize(total_loss)\n",
    "\"\"\"\n",
    "Train the network\n",
    "\"\"\"\n",
    "\n",
    "def train_network(num_epochs, num_steps, state_size=4, verbose=True):\n",
    "    with tf.Session() as sess:\n",
    "        tf.summary.FileWriter('log_folder', sess.graph)\n",
    "        sess.run(tf.global_variables_initializer())\n",
    "        training_losses = []\n",
    "        for idx, epoch in enumerate(gen_epochs(num_epochs, num_steps)):\n",
    "            training_loss = 0\n",
    "            training_state = np.zeros((batch_size, state_size))\n",
    "            if verbose:\n",
    "                print(\"\\nEPOCH\", idx)\n",
    "            for step, (X, Y) in enumerate(epoch):\n",
    "                tr_losses, training_loss_, training_state, _ = \\\n",
    "                    sess.run([losses,\n",
    "                              total_loss,\n",
    "                              final_state,\n",
    "                              train_step\n",
    "                              ],feed_dict={x:X, y:Y, init_state:training_state})\n",
    "                training_loss += training_loss_\n",
    "                if step % 100 == 0 and step > 0:\n",
    "                    if verbose:\n",
    "                        print(\"Average loss at step\", step,\n",
    "                              \"for last 100 steps:\", training_loss/100)\n",
    "                    training_losses.append(training_loss/100)\n",
    "                    training_loss = 0\n",
    "\n",
    "    return training_losses\n",
    "\n",
    "\n",
    "training_losses = train_network(8,num_steps,state_size=state_size)\n",
    "plt.plot(training_losses)"
   ]
  },
  {
   "cell_type": "code",
   "execution_count": null,
   "metadata": {},
   "outputs": [],
   "source": []
  }
 ],
 "metadata": {
  "kernelspec": {
   "display_name": "Python 3",
   "language": "python",
   "name": "python3"
  },
  "language_info": {
   "codemirror_mode": {
    "name": "ipython",
    "version": 3
   },
   "file_extension": ".py",
   "mimetype": "text/x-python",
   "name": "python",
   "nbconvert_exporter": "python",
   "pygments_lexer": "ipython3",
   "version": "3.6.5"
  },
  "toc": {
   "base_numbering": 1,
   "nav_menu": {},
   "number_sections": true,
   "sideBar": true,
   "skip_h1_title": false,
   "title_cell": "Table of Contents",
   "title_sidebar": "Contents",
   "toc_cell": false,
   "toc_position": {},
   "toc_section_display": true,
   "toc_window_display": false
  }
 },
 "nbformat": 4,
 "nbformat_minor": 2
}
