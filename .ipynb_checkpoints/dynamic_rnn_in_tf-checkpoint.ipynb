{
 "cells": [
  {
   "cell_type": "code",
   "execution_count": 2,
   "metadata": {},
   "outputs": [],
   "source": [
    "from __future__ import print_function\n",
    "from __future__ import division\n",
    "from __future__ import unicode_literals\n"
   ]
  },
  {
   "cell_type": "code",
   "execution_count": 3,
   "metadata": {},
   "outputs": [
    {
     "name": "stdout",
     "output_type": "stream",
     "text": [
      "Expected cross entropy loss if the model:\n",
      "- learns neither dependency: 0.6615632381579821\n",
      "- learns first dependency:   0.5191666997072094\n",
      "- learns both dependencies:  0.4544543674493905\n"
     ]
    }
   ],
   "source": [
    "import numpy as np\n",
    "\n",
    "print(\"Expected cross entropy loss if the model:\")\n",
    "print(\"- learns neither dependency:\", -(0.625 * np.log(0.625) +\n",
    "                                      0.375 * np.log(0.375)))\n",
    "# Learns first dependency only ==> 0.51916669970720941\n",
    "print(\"- learns first dependency:  \",\n",
    "      -0.5 * (0.875 * np.log(0.875) + 0.125 * np.log(0.125))\n",
    "      -0.5 * (0.625 * np.log(0.625) + 0.375 * np.log(0.375)))\n",
    "print(\"- learns both dependencies: \", -0.50 * (0.75 * np.log(0.75) + 0.25 * np.log(0.25))\n",
    "      - 0.25 * (2 * 0.50 * np.log (0.50)) - 0.25 * (0))"
   ]
  },
  {
   "cell_type": "code",
   "execution_count": 4,
   "metadata": {},
   "outputs": [
    {
     "name": "stderr",
     "output_type": "stream",
     "text": [
      "D:\\Anaconda3\\lib\\site-packages\\h5py\\__init__.py:36: FutureWarning: Conversion of the second argument of issubdtype from `float` to `np.floating` is deprecated. In future, it will be treated as `np.float64 == np.dtype(float).type`.\n",
      "  from ._conv import register_converters as _register_converters\n"
     ]
    }
   ],
   "source": [
    "import numpy as np\n",
    "import tensorflow as tf\n",
    "%matplotlib inline\n",
    "import matplotlib.pyplot as plt\n",
    "import os\n",
    "os.environ['CUDA_VISIBLE_DEVICES']=''"
   ]
  },
  {
   "cell_type": "code",
   "execution_count": 5,
   "metadata": {},
   "outputs": [],
   "source": [
    "# Global config variables\n",
    "num_steps = 10 # number of truncated backprop steps ('n' in the discussion above)\n",
    "batch_size = 200\n",
    "num_classes = 2\n",
    "state_size = 16\n",
    "learning_rate = 0.001"
   ]
  },
  {
   "cell_type": "code",
   "execution_count": 6,
   "metadata": {},
   "outputs": [],
   "source": [
    "def gen_data(size=1000000):\n",
    "    X = np.array(np.random.choice(2, size=(size,)))\n",
    "    Y = []\n",
    "    for i in range(size):\n",
    "        threshold = 0.5\n",
    "        if X[i-3] == 1:\n",
    "            threshold += 0.5\n",
    "        if X[i-8] == 1:\n",
    "            threshold -= 0.25\n",
    "        if np.random.rand() > threshold:\n",
    "            Y.append(0)\n",
    "        else:\n",
    "            Y.append(1)\n",
    "    return X, np.array(Y)\n",
    "\n",
    "# adapted from https://github.com/tensorflow/tensorflow/blob/master/tensorflow/models/rnn/ptb/reader.py\n",
    "def gen_batch(raw_data, batch_size, num_steps):\n",
    "    raw_x, raw_y = raw_data\n",
    "    data_length = len(raw_x)\n",
    "\n",
    "    # partition raw data into batches and stack them vertically in a data matrix\n",
    "    batch_partition_length = data_length // batch_size\n",
    "    data_x = np.zeros([batch_size, batch_partition_length], dtype=np.int32)\n",
    "    data_y = np.zeros([batch_size, batch_partition_length], dtype=np.int32)\n",
    "    for i in range(batch_size):\n",
    "        data_x[i] = raw_x[batch_partition_length * i:batch_partition_length * (i + 1)]\n",
    "        data_y[i] = raw_y[batch_partition_length * i:batch_partition_length * (i + 1)]\n",
    "    # further divide batch partitions into num_steps for truncated backprop\n",
    "    epoch_size = batch_partition_length // num_steps\n",
    "\n",
    "    for i in range(epoch_size):\n",
    "        x = data_x[:, i * num_steps:(i + 1) * num_steps]\n",
    "        y = data_y[:, i * num_steps:(i + 1) * num_steps]\n",
    "        yield (x, y)\n",
    "\n",
    "def gen_epochs(n, num_steps):\n",
    "    for i in range(n):\n",
    "        yield gen_batch(gen_data(), batch_size, num_steps)\n"
   ]
  },
  {
   "cell_type": "code",
   "execution_count": 7,
   "metadata": {},
   "outputs": [
    {
     "name": "stdout",
     "output_type": "stream",
     "text": [
      "Tensor(\"rnn/transpose_1:0\", shape=(200, 10, 16), dtype=float32)\n",
      "Tensor(\"rnn/while/Exit_3:0\", shape=(200, 16), dtype=float32)\n"
     ]
    }
   ],
   "source": [
    "tf.reset_default_graph()\n",
    "\"\"\"\n",
    "Placeholders\n",
    "\"\"\"\n",
    "\n",
    "x = tf.placeholder(tf.int32, [batch_size, num_steps], name='input_placeholder')\n",
    "y = tf.placeholder(tf.int32, [batch_size, num_steps], name='labels_placeholder')\n",
    "init_state = tf.zeros([batch_size, state_size])\n",
    "\n",
    "\"\"\"\n",
    "RNN Inputs\n",
    "\"\"\"\n",
    "\n",
    "# Turn our x placeholder into a list of one-hot tensors:\n",
    "# rnn_inputs is a list of num_steps tensors with shape [batch_size, num_classes]\n",
    "rnn_inputs = tf.one_hot(x, num_classes)\n",
    "\n",
    "cell = tf.nn.rnn_cell.BasicRNNCell(state_size)\n",
    "rnn_outputs, final_state = tf.nn.dynamic_rnn(cell, rnn_inputs, initial_state=init_state)\n",
    "print(rnn_outputs)\n",
    "print(final_state)"
   ]
  },
  {
   "cell_type": "code",
   "execution_count": 8,
   "metadata": {},
   "outputs": [
    {
     "ename": "NameError",
     "evalue": "name 'label' is not defined",
     "output_type": "error",
     "traceback": [
      "\u001b[1;31m---------------------------------------------------------------------------\u001b[0m",
      "\u001b[1;31mNameError\u001b[0m                                 Traceback (most recent call last)",
      "\u001b[1;32m<ipython-input-8-c17d1df061c7>\u001b[0m in \u001b[0;36m<module>\u001b[1;34m()\u001b[0m\n\u001b[0;32m     17\u001b[0m \u001b[1;33m\u001b[0m\u001b[0m\n\u001b[0;32m     18\u001b[0m \u001b[0mpredictions\u001b[0m \u001b[1;33m=\u001b[0m \u001b[0mtf\u001b[0m\u001b[1;33m.\u001b[0m\u001b[0mnn\u001b[0m\u001b[1;33m.\u001b[0m\u001b[0msoftmax\u001b[0m\u001b[1;33m(\u001b[0m\u001b[0mlogits\u001b[0m\u001b[1;33m)\u001b[0m\u001b[1;33m\u001b[0m\u001b[0m\n\u001b[1;32m---> 19\u001b[1;33m \u001b[0mlosses\u001b[0m \u001b[1;33m=\u001b[0m \u001b[0mtf\u001b[0m\u001b[1;33m.\u001b[0m\u001b[0mnn\u001b[0m\u001b[1;33m.\u001b[0m\u001b[0msparse_softmax_cross_entropy_with_logits\u001b[0m\u001b[1;33m(\u001b[0m\u001b[0mlabels\u001b[0m\u001b[1;33m=\u001b[0m\u001b[0mlabel\u001b[0m\u001b[1;33m,\u001b[0m \u001b[0mlogits\u001b[0m\u001b[1;33m=\u001b[0m\u001b[0mlogit\u001b[0m\u001b[1;33m)\u001b[0m\u001b[1;33m\u001b[0m\u001b[0m\n\u001b[0m",
      "\u001b[1;31mNameError\u001b[0m: name 'label' is not defined"
     ]
    }
   ],
   "source": [
    "\"\"\"\n",
    "Predictions, loss, training step\n",
    "\n",
    "Losses is similar to the \"sequence_loss\"\n",
    "function from Tensorflow's API, except that here we are using a list of 2D tensors, instead of a 3D tensor. See:\n",
    "https://github.com/tensorflow/tensorflow/blob/master/tensorflow/contrib/seq2seq/python/ops/loss.py#L30\n",
    "\"\"\"\n",
    "\n",
    "#logits and predictions\n",
    "with tf.variable_scope('softmax'):\n",
    "    W = tf.get_variable('W', [state_size, num_classes])\n",
    "    b = tf.get_variable('b', [num_classes], initializer=tf.constant_initializer(0.0))\n",
    "\n",
    "logits = tf.reshape(\n",
    "    tf.matmul(tf.reshape(rnn_outputs, [-1,state_size]),W) + b,\n",
    "    [batch_size,num_steps,num_classes])\n",
    "\n",
    "predictions = tf.nn.softmax(logits)\n",
    "losses = tf.nn.sparse_softmax_cross_entropy_with_logits(labels=y, logits=logit)"
   ]
  },
  {
   "cell_type": "code",
   "execution_count": 16,
   "metadata": {
    "scrolled": false
   },
   "outputs": [
    {
     "name": "stdout",
     "output_type": "stream",
     "text": [
      "\n",
      "EPOCH 0\n",
      "Average loss at step 100 for last 100 steps: 0.624105686545372\n",
      "Average loss at step 200 for last 100 steps: 0.4982557851076126\n",
      "Average loss at step 300 for last 100 steps: 0.48447896987199784\n",
      "Average loss at step 400 for last 100 steps: 0.4793195003271103\n",
      "\n",
      "EPOCH 1\n",
      "Average loss at step 100 for last 100 steps: 0.4793015715479851\n",
      "Average loss at step 200 for last 100 steps: 0.4708857083320618\n",
      "Average loss at step 300 for last 100 steps: 0.4693210443854332\n",
      "Average loss at step 400 for last 100 steps: 0.46657229721546173\n",
      "\n",
      "EPOCH 2\n",
      "Average loss at step 100 for last 100 steps: 0.47356325477361677\n",
      "Average loss at step 200 for last 100 steps: 0.46554807931184766\n",
      "Average loss at step 300 for last 100 steps: 0.4642185342311859\n",
      "Average loss at step 400 for last 100 steps: 0.46421228915452956\n",
      "\n",
      "EPOCH 3\n",
      "Average loss at step 100 for last 100 steps: 0.4711008769273758\n",
      "Average loss at step 200 for last 100 steps: 0.46341252207756045\n",
      "Average loss at step 300 for last 100 steps: 0.46121330350637435\n",
      "Average loss at step 400 for last 100 steps: 0.4618852990865707\n",
      "\n",
      "EPOCH 4\n",
      "Average loss at step 100 for last 100 steps: 0.46860536247491835\n",
      "Average loss at step 200 for last 100 steps: 0.461922781765461\n",
      "Average loss at step 300 for last 100 steps: 0.4589912271499634\n",
      "Average loss at step 400 for last 100 steps: 0.46002436488866805\n",
      "\n",
      "EPOCH 5\n",
      "Average loss at step 100 for last 100 steps: 0.46631288915872576\n",
      "Average loss at step 200 for last 100 steps: 0.460255920290947\n",
      "Average loss at step 300 for last 100 steps: 0.46044480592012405\n",
      "Average loss at step 400 for last 100 steps: 0.45936333447694777\n",
      "\n",
      "EPOCH 6\n",
      "Average loss at step 100 for last 100 steps: 0.4667699980735779\n",
      "Average loss at step 200 for last 100 steps: 0.45851901173591614\n",
      "Average loss at step 300 for last 100 steps: 0.4575590190291405\n",
      "Average loss at step 400 for last 100 steps: 0.45769664257764814\n",
      "\n",
      "EPOCH 7\n",
      "Average loss at step 100 for last 100 steps: 0.466550395488739\n",
      "Average loss at step 200 for last 100 steps: 0.45822704762220384\n",
      "Average loss at step 300 for last 100 steps: 0.4576933020353317\n",
      "Average loss at step 400 for last 100 steps: 0.4585968482494354\n",
      "\n",
      "EPOCH 8\n",
      "Average loss at step 100 for last 100 steps: 0.46587254345417023\n",
      "Average loss at step 200 for last 100 steps: 0.4591801828145981\n",
      "Average loss at step 300 for last 100 steps: 0.45862403184175493\n",
      "Average loss at step 400 for last 100 steps: 0.4585466527938843\n",
      "\n",
      "EPOCH 9\n",
      "Average loss at step 100 for last 100 steps: 0.46901099383831024\n",
      "Average loss at step 200 for last 100 steps: 0.45716737031936644\n",
      "Average loss at step 300 for last 100 steps: 0.45668709665536883\n",
      "Average loss at step 400 for last 100 steps: 0.4589548882842064\n",
      "\n",
      "EPOCH 10\n",
      "Average loss at step 100 for last 100 steps: 0.46661564528942107\n",
      "Average loss at step 200 for last 100 steps: 0.4578209814429283\n",
      "Average loss at step 300 for last 100 steps: 0.4586308786273003\n",
      "Average loss at step 400 for last 100 steps: 0.4562049144506454\n",
      "\n",
      "EPOCH 11\n",
      "Average loss at step 100 for last 100 steps: 0.4655546721816063\n",
      "Average loss at step 200 for last 100 steps: 0.4584050539135933\n",
      "Average loss at step 300 for last 100 steps: 0.4574299761652946\n",
      "Average loss at step 400 for last 100 steps: 0.4571320393681526\n",
      "\n",
      "EPOCH 12\n",
      "Average loss at step 100 for last 100 steps: 0.4654673397541046\n",
      "Average loss at step 200 for last 100 steps: 0.4571090367436409\n",
      "Average loss at step 300 for last 100 steps: 0.45681500047445295\n",
      "Average loss at step 400 for last 100 steps: 0.45750879794359206\n",
      "\n",
      "EPOCH 13\n",
      "Average loss at step 100 for last 100 steps: 0.4660698154568672\n",
      "Average loss at step 200 for last 100 steps: 0.45559495717287063\n",
      "Average loss at step 300 for last 100 steps: 0.4576345404982567\n",
      "Average loss at step 400 for last 100 steps: 0.4587424722313881\n",
      "\n",
      "EPOCH 14\n",
      "Average loss at step 100 for last 100 steps: 0.46442380249500276\n",
      "Average loss at step 200 for last 100 steps: 0.4591685816645622\n",
      "Average loss at step 300 for last 100 steps: 0.45846182644367217\n",
      "Average loss at step 400 for last 100 steps: 0.45694864898920057\n",
      "\n",
      "EPOCH 15\n",
      "Average loss at step 100 for last 100 steps: 0.46651226818561553\n",
      "Average loss at step 200 for last 100 steps: 0.45743509382009506\n",
      "Average loss at step 300 for last 100 steps: 0.4574560168385506\n",
      "Average loss at step 400 for last 100 steps: 0.4561214482784271\n",
      "\n",
      "EPOCH 16\n",
      "Average loss at step 100 for last 100 steps: 0.4653268346190453\n",
      "Average loss at step 200 for last 100 steps: 0.4564547052979469\n",
      "Average loss at step 300 for last 100 steps: 0.4562641081213951\n",
      "Average loss at step 400 for last 100 steps: 0.4574913677573204\n",
      "\n",
      "EPOCH 17\n",
      "Average loss at step 100 for last 100 steps: 0.4662762263417244\n",
      "Average loss at step 200 for last 100 steps: 0.45676166653633116\n",
      "Average loss at step 300 for last 100 steps: 0.457112335562706\n",
      "Average loss at step 400 for last 100 steps: 0.45768402189016344\n",
      "\n",
      "EPOCH 18\n",
      "Average loss at step 100 for last 100 steps: 0.4645367926359177\n",
      "Average loss at step 200 for last 100 steps: 0.45709674030542374\n",
      "Average loss at step 300 for last 100 steps: 0.4545853126049042\n",
      "Average loss at step 400 for last 100 steps: 0.45841480493545533\n",
      "\n",
      "EPOCH 19\n",
      "Average loss at step 100 for last 100 steps: 0.46444382041692733\n",
      "Average loss at step 200 for last 100 steps: 0.4563441950082779\n",
      "Average loss at step 300 for last 100 steps: 0.4567557486891747\n",
      "Average loss at step 400 for last 100 steps: 0.4568538299202919\n"
     ]
    },
    {
     "data": {
      "text/plain": [
       "[<matplotlib.lines.Line2D at 0x2353e3911d0>]"
      ]
     },
     "execution_count": 16,
     "metadata": {},
     "output_type": "execute_result"
    },
    {
     "data": {
      "image/png": "[encoded data removed]",
      "text/plain": [
       "<Figure size 432x288 with 1 Axes>"
      ]
     },
     "metadata": {},
     "output_type": "display_data"
    }
   ],
   "source": [
    "total_loss = tf.reduce_mean(losses)\n",
    "train_step = tf.train.AdamOptimizer(learning_rate).minimize(total_loss)\n",
    "\"\"\"\n",
    "Train the network\n",
    "\"\"\"\n",
    "\n",
    "def train_network(num_epochs, num_steps, state_size=4, verbose=True):\n",
    "    with tf.Session() as sess:\n",
    "        sess.run(tf.global_variables_initializer())\n",
    "        training_losses = []\n",
    "        for idx, epoch in enumerate(gen_epochs(num_epochs, num_steps)):\n",
    "            training_loss = 0\n",
    "            training_state = np.zeros((batch_size, state_size))\n",
    "            if verbose:\n",
    "                print(\"\\nEPOCH\", idx)\n",
    "            for step, (X, Y) in enumerate(epoch):\n",
    "                tr_losses, training_loss_, training_state, _ = \\\n",
    "                    sess.run([losses,\n",
    "                              total_loss,\n",
    "                              final_state,\n",
    "                              train_step],\n",
    "                                  feed_dict={x:X, y:Y, init_state:training_state})\n",
    "                training_loss += training_loss_\n",
    "                if step % 100 == 0 and step > 0:\n",
    "                    if verbose:\n",
    "                        print(\"Average loss at step\", step,\n",
    "                              \"for last 100 steps:\", training_loss/100)\n",
    "                    training_losses.append(training_loss/100)\n",
    "                    training_loss = 0\n",
    "\n",
    "    return training_losses\n",
    "training_losses = train_network(20,num_steps,state_size=state_size)\n",
    "plt.plot(training_losses)"
   ]
  },
  {
   "cell_type": "code",
   "execution_count": null,
   "metadata": {},
   "outputs": [],
   "source": []
  }
 ],
 "metadata": {
  "kernelspec": {
   "display_name": "Python 3",
   "language": "python",
   "name": "python3"
  },
  "language_info": {
   "codemirror_mode": {
    "name": "ipython",
    "version": 3
   },
   "file_extension": ".py",
   "mimetype": "text/x-python",
   "name": "python",
   "nbconvert_exporter": "python",
   "pygments_lexer": "ipython3",
   "version": "3.6.5"
  },
  "toc": {
   "base_numbering": 1,
   "nav_menu": {},
   "number_sections": true,
   "sideBar": true,
   "skip_h1_title": false,
   "title_cell": "Table of Contents",
   "title_sidebar": "Contents",
   "toc_cell": false,
   "toc_position": {},
   "toc_section_display": true,
   "toc_window_display": false
  }
 },
 "nbformat": 4,
 "nbformat_minor": 2
}
